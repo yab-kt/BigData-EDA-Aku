{
  "nbformat": 4,
  "nbformat_minor": 0,
  "metadata": {
    "colab": {
      "provenance": [],
      "authorship_tag": "ABX9TyN0dEnd2gQqiD+JuyCROv8s"
    },
    "kernelspec": {
      "name": "python3",
      "display_name": "Python 3"
    },
    "language_info": {
      "name": "python"
    }
  },
  "cells": [
    {
      "cell_type": "markdown",
      "source": [
        "# **Exploratory Data Analysis On Football WorldCup Data**\n",
        "Dataset From  https://www.kaggle.com/datasets/mozattt/worldcupdata19302018?select=WorldCupsSummary.csv\n",
        "\n",
        "# **About Dataset**\n",
        "\n",
        "This Dataset comes from TIANCHI.\n",
        "\n",
        "WorldCupsSummary.csv\n",
        "Contains summary information for all 21 World Cup tournaments (1930-2018) for the tournament host country, top four teams, total teams, total goals scored, and number of spectators in attendance, including the following fields.\n",
        "\n",
        "Year: Year of the event\n",
        "\n",
        "HostCountry: Host country\n",
        "\n",
        "Winner: The winning team\n",
        "\n",
        "Second: First runner-up team\n",
        "\n",
        "Third: Third place team\n",
        "\n",
        "Fourth: Fourth place team\n",
        "\n",
        "GoalsScored: Total number of goals scored\n",
        "\n",
        "QualifiedTeams: Total number of participating teams\n",
        "\n",
        "MatchesPlayed: Total number of games played\n",
        "\n",
        "Attendance: Total number of spectators in attendance\n",
        "\n",
        "HostContinent: Continent of the host country\n",
        "\n",
        "WinnerContinent: The continent of the winning national team"
      ],
      "metadata": {
        "id": "2-Od3eQ6f3R-"
      }
    },
    {
      "cell_type": "markdown",
      "source": [
        "# **Importing Libraries**"
      ],
      "metadata": {
        "id": "sYLV6IrhhPb9"
      }
    },
    {
      "cell_type": "code",
      "execution_count": null,
      "metadata": {
        "id": "BJhZVZCoeYJ3"
      },
      "outputs": [],
      "source": [
        "import numpy as np\n",
        "import pandas as pd\n",
        "import seaborn as sns\n",
        "import matplotlib.pyplot as plt"
      ]
    },
    {
      "cell_type": "markdown",
      "source": [
        "# **Read Dataset**"
      ],
      "metadata": {
        "id": "lbFV_1k_heO9"
      }
    },
    {
      "cell_type": "code",
      "source": [
        "df = pd.read_csv('/content/WorldCupsSummary.csv')"
      ],
      "metadata": {
        "id": "pB0ZN-9whcxV"
      },
      "execution_count": null,
      "outputs": []
    },
    {
      "cell_type": "markdown",
      "source": [
        "# **Display The DataFrame**"
      ],
      "metadata": {
        "id": "TzbdzPARjMUw"
      }
    },
    {
      "cell_type": "code",
      "source": [
        "df = pd.DataFrame(df)\n",
        "print(df)"
      ],
      "metadata": {
        "colab": {
          "base_uri": "https://localhost:8080/"
        },
        "id": "U9u5_bQ1h68N",
        "outputId": "bb73aff1-2b3d-40bb-b478-56ccd032f3f1"
      },
      "execution_count": null,
      "outputs": [
        {
          "output_type": "stream",
          "name": "stdout",
          "text": [
            "    Year   HostCountry      Winner          Second        Third  \\\n",
            "0   1930       Uruguay     Uruguay       Argentina          USA   \n",
            "1   1934         Italy       Italy  Czechoslovakia      Germany   \n",
            "2   1938        France       Italy         Hungary       Brazil   \n",
            "3   1950        Brazil     Uruguay          Brazil       Sweden   \n",
            "4   1954   Switzerland  Germany FR         Hungary      Austria   \n",
            "5   1958        Sweden      Brazil          Sweden       France   \n",
            "6   1962         Chile      Brazil  Czechoslovakia        Chile   \n",
            "7   1966       England     England      Germany FR     Portugal   \n",
            "8   1970        Mexico      Brazil           Italy   Germany FR   \n",
            "9   1974       Germany  Germany FR     Netherlands       Poland   \n",
            "10  1978     Argentina   Argentina     Netherlands       Brazil   \n",
            "11  1982         Spain       Italy      Germany FR       Poland   \n",
            "12  1986        Mexico   Argentina      Germany FR       France   \n",
            "13  1990         Italy  Germany FR       Argentina        Italy   \n",
            "14  1994           USA      Brazil           Italy       Sweden   \n",
            "15  1998        France      France          Brazil      Croatia   \n",
            "16  2002   Korea/Japan      Brazil         Germany       Turkey   \n",
            "17  2006       Germany       Italy          France      Germany   \n",
            "18  2010  South Africa       Spain     Netherlands      Germany   \n",
            "19  2014        Brazil     Germany       Argentina  Netherlands   \n",
            "20  2018        Russia      France         Croatia      Belgium   \n",
            "\n",
            "            Fourth  GoalsScored  QualifiedTeams  MatchesPlayed  Attendance  \\\n",
            "0       Yugoslavia           70              13             18      590549   \n",
            "1          Austria           70              16             17      363000   \n",
            "2           Sweden           84              15             18      375700   \n",
            "3            Spain           88              13             22     1045246   \n",
            "4          Uruguay          140              16             26      768607   \n",
            "5       Germany FR          126              16             35      819810   \n",
            "6       Yugoslavia           89              16             32      893172   \n",
            "7     Soviet Union           89              16             32     1563135   \n",
            "8          Uruguay           95              16             32     1603975   \n",
            "9           Brazil           97              16             38     1865753   \n",
            "10           Italy          102              16             38     1545791   \n",
            "11          France          146              24             52     2109723   \n",
            "12         Belgium          132              24             52     2394031   \n",
            "13         England          115              24             52     2516215   \n",
            "14        Bulgaria          141              24             52     3587538   \n",
            "15     Netherlands          171              32             64     2785100   \n",
            "16  Korea Republic          161              32             64     2705197   \n",
            "17        Portugal          147              32             64     3359439   \n",
            "18         Uruguay          145              32             64     3178856   \n",
            "19          Brazil          171              32             64     3386810   \n",
            "20         England          169              32             64     3031768   \n",
            "\n",
            "   HostContinent WinnerContinent  \n",
            "0        America         America  \n",
            "1         Europe          Europe  \n",
            "2         Europe          Europe  \n",
            "3        America         America  \n",
            "4         Europe          Europe  \n",
            "5         Europe         America  \n",
            "6        America         America  \n",
            "7         Europe          Europe  \n",
            "8        America         America  \n",
            "9         Europe          Europe  \n",
            "10       America         America  \n",
            "11        Europe          Europe  \n",
            "12       America         America  \n",
            "13        Europe          Europe  \n",
            "14       America         America  \n",
            "15        Europe          Europe  \n",
            "16          Asia         America  \n",
            "17        Europe          Europe  \n",
            "18        Africa          Europe  \n",
            "19       America          Europe  \n",
            "20        Europe          Europe  \n"
          ]
        }
      ]
    },
    {
      "cell_type": "markdown",
      "source": [
        "# **Find Shape of Our Dataset(Number of Columns and Rows)**"
      ],
      "metadata": {
        "id": "VZMxBst6jwiY"
      }
    },
    {
      "cell_type": "code",
      "source": [
        "df.shape"
      ],
      "metadata": {
        "colab": {
          "base_uri": "https://localhost:8080/"
        },
        "id": "Ueu_tZGIjXtB",
        "outputId": "8f8414fa-031b-4593-b8e4-675ba073950c"
      },
      "execution_count": null,
      "outputs": [
        {
          "output_type": "execute_result",
          "data": {
            "text/plain": [
              "(21, 12)"
            ]
          },
          "metadata": {},
          "execution_count": 56
        }
      ]
    },
    {
      "cell_type": "code",
      "source": [
        "print(\"Number of Rows\",df.shape[0])\n",
        "print(\"Number of Columns\",df.shape[1])"
      ],
      "metadata": {
        "colab": {
          "base_uri": "https://localhost:8080/"
        },
        "id": "-XVmNbYkj59g",
        "outputId": "a0217b66-0c50-46dd-8fcf-dfc20d29d47f"
      },
      "execution_count": null,
      "outputs": [
        {
          "output_type": "stream",
          "name": "stdout",
          "text": [
            "Number of Rows 21\n",
            "Number of Columns 12\n"
          ]
        }
      ]
    },
    {
      "cell_type": "markdown",
      "source": [
        "# 1.Basic Statistics:\n",
        "\n",
        "* What are the basic statistics of the dataset, such as the number of rows, columns, and data types?\n",
        "* What are the summary statistics (mean, median, min, max) for relevant columns like 'Attendance,' 'GoalsScored,'?\n",
        "\n",
        "\n",
        "\n",
        "\n"
      ],
      "metadata": {
        "id": "GA_MsMZ0k57v"
      }
    },
    {
      "cell_type": "code",
      "source": [
        "print(df.info())"
      ],
      "metadata": {
        "colab": {
          "base_uri": "https://localhost:8080/"
        },
        "id": "hoDo06lvwRD2",
        "outputId": "c2cd8da4-2659-44f3-f492-e73b80bec57a"
      },
      "execution_count": null,
      "outputs": [
        {
          "output_type": "stream",
          "name": "stdout",
          "text": [
            "<class 'pandas.core.frame.DataFrame'>\n",
            "RangeIndex: 21 entries, 0 to 20\n",
            "Data columns (total 12 columns):\n",
            " #   Column           Non-Null Count  Dtype \n",
            "---  ------           --------------  ----- \n",
            " 0   Year             21 non-null     int64 \n",
            " 1   HostCountry      21 non-null     object\n",
            " 2   Winner           21 non-null     object\n",
            " 3   Second           21 non-null     object\n",
            " 4   Third            21 non-null     object\n",
            " 5   Fourth           21 non-null     object\n",
            " 6   GoalsScored      21 non-null     int64 \n",
            " 7   QualifiedTeams   21 non-null     int64 \n",
            " 8   MatchesPlayed    21 non-null     int64 \n",
            " 9   Attendance       21 non-null     int64 \n",
            " 10  HostContinent    21 non-null     object\n",
            " 11  WinnerContinent  21 non-null     object\n",
            "dtypes: int64(5), object(7)\n",
            "memory usage: 2.1+ KB\n",
            "None\n"
          ]
        }
      ]
    },
    {
      "cell_type": "code",
      "source": [
        "print(df.describe())"
      ],
      "metadata": {
        "colab": {
          "base_uri": "https://localhost:8080/"
        },
        "id": "7uFh79QP4SQm",
        "outputId": "83b15518-1c14-44fd-ca66-98d30b311f57"
      },
      "execution_count": null,
      "outputs": [
        {
          "output_type": "stream",
          "name": "stdout",
          "text": [
            "              Year  GoalsScored  QualifiedTeams  MatchesPlayed    Attendance\n",
            "count    21.000000    21.000000       21.000000      21.000000  2.100000e+01\n",
            "mean   1976.857143   121.333333       21.761905      42.857143  1.928067e+06\n",
            "std      26.657618    33.943090        7.462605      17.467930  1.074875e+06\n",
            "min    1930.000000    70.000000       13.000000      17.000000  3.630000e+05\n",
            "25%    1958.000000    89.000000       16.000000      32.000000  8.931720e+05\n",
            "50%    1978.000000   126.000000       16.000000      38.000000  1.865753e+06\n",
            "75%    1998.000000   146.000000       32.000000      64.000000  2.785100e+06\n",
            "max    2018.000000   171.000000       32.000000      64.000000  3.587538e+06\n"
          ]
        }
      ]
    },
    {
      "cell_type": "markdown",
      "source": [
        "# 2. Champion Analysis:\n",
        "*   Which country has won the most World Cups?\n"
      ],
      "metadata": {
        "id": "K6sHsWZKwOYR"
      }
    },
    {
      "cell_type": "code",
      "source": [
        "df.Winner.value_counts()"
      ],
      "metadata": {
        "colab": {
          "base_uri": "https://localhost:8080/"
        },
        "id": "vifqhTcxkmJ1",
        "outputId": "3157d757-f5f7-421c-f21c-08f276643184"
      },
      "execution_count": null,
      "outputs": [
        {
          "output_type": "execute_result",
          "data": {
            "text/plain": [
              "Brazil        5\n",
              "Italy         4\n",
              "Germany FR    3\n",
              "Uruguay       2\n",
              "Argentina     2\n",
              "France        2\n",
              "England       1\n",
              "Spain         1\n",
              "Germany       1\n",
              "Name: Winner, dtype: int64"
            ]
          },
          "metadata": {},
          "execution_count": 60
        }
      ]
    },
    {
      "cell_type": "code",
      "source": [
        "df.Winner.value_counts().plot(kind='bar')"
      ],
      "metadata": {
        "colab": {
          "base_uri": "https://localhost:8080/",
          "height": 519
        },
        "id": "QwEdjyT2l4XN",
        "outputId": "c79a8763-2d80-4f4b-e6ce-88d6defeed7e"
      },
      "execution_count": null,
      "outputs": [
        {
          "output_type": "execute_result",
          "data": {
            "text/plain": [
              "<Axes: >"
            ]
          },
          "metadata": {},
          "execution_count": 61
        },
        {
          "output_type": "display_data",
          "data": {
            "text/plain": [
              "<Figure size 640x480 with 1 Axes>"
            ],
            "image/png": "[encoded data removed]"
          },
          "metadata": {}
        }
      ]
    },
    {
      "cell_type": "code",
      "source": [
        "champion_counts = df['Winner'].value_counts()\n",
        "print(\"Country with the Most World Cup Wins:\")\n",
        "print(champion_counts.head(1))"
      ],
      "metadata": {
        "colab": {
          "base_uri": "https://localhost:8080/"
        },
        "id": "gnmMAFlX1IE3",
        "outputId": "347c8ff3-0794-4b6e-f7cb-5194c4d1ad1d"
      },
      "execution_count": null,
      "outputs": [
        {
          "output_type": "stream",
          "name": "stdout",
          "text": [
            "Country with the Most World Cup Wins:\n",
            "Brazil    5\n",
            "Name: Winner, dtype: int64\n"
          ]
        }
      ]
    },
    {
      "cell_type": "markdown",
      "source": [
        "# 3.How Many Goals Scored in Worldcup Matches From 193-2018?"
      ],
      "metadata": {
        "id": "IwHGgCnZm3vz"
      }
    },
    {
      "cell_type": "code",
      "source": [
        "print(\"Total Number Goals in World Cup Matches:\",sum(df['GoalsScored']))"
      ],
      "metadata": {
        "colab": {
          "base_uri": "https://localhost:8080/"
        },
        "id": "wYwN4f5UmnKg",
        "outputId": "0a574ea4-b1d2-4618-f24b-e80b7bd5eea9"
      },
      "execution_count": null,
      "outputs": [
        {
          "output_type": "stream",
          "name": "stdout",
          "text": [
            "Total Number Goals in World Cup Matches: 2548\n"
          ]
        }
      ]
    },
    {
      "cell_type": "markdown",
      "source": [
        "# 4.In Which Year Most Number of Goals Have Been Scored?"
      ],
      "metadata": {
        "id": "8KV13Iseo-av"
      }
    },
    {
      "cell_type": "code",
      "source": [
        "plt.plot(df.Year, df.GoalsScored)"
      ],
      "metadata": {
        "colab": {
          "base_uri": "https://localhost:8080/",
          "height": 447
        },
        "id": "ESnY7J5_pedd",
        "outputId": "423e5746-26bd-47bc-cb6d-6c2da1a65d25"
      },
      "execution_count": null,
      "outputs": [
        {
          "output_type": "execute_result",
          "data": {
            "text/plain": [
              "[<matplotlib.lines.Line2D at 0x7dc2bab6b8e0>]"
            ]
          },
          "metadata": {},
          "execution_count": 65
        },
        {
          "output_type": "display_data",
          "data": {
            "text/plain": [
              "<Figure size 640x480 with 1 Axes>"
            ],
            "image/png": "[encoded data removed]"
          },
          "metadata": {}
        }
      ]
    },
    {
      "cell_type": "markdown",
      "source": [
        "# 5.Number of World Cups:\n",
        "*   How many World Cups are included in the dataset?\n",
        "*   What are the years of the earliest and latest World Cups in the dataset?\n",
        "\n",
        "\n"
      ],
      "metadata": {
        "id": "P0fhYjVovfBi"
      }
    },
    {
      "cell_type": "code",
      "source": [
        "print(\"Number of World Cups:\", df['Year'].nunique())"
      ],
      "metadata": {
        "colab": {
          "base_uri": "https://localhost:8080/"
        },
        "id": "KNIntPQgp8QS",
        "outputId": "440b508a-cebb-48a0-c3a6-18aad1ebd0e9"
      },
      "execution_count": null,
      "outputs": [
        {
          "output_type": "stream",
          "name": "stdout",
          "text": [
            "Number of World Cups: 21\n"
          ]
        }
      ]
    },
    {
      "cell_type": "code",
      "source": [
        "print(\"Earliest World Cup Year:\", df['Year'].min())"
      ],
      "metadata": {
        "colab": {
          "base_uri": "https://localhost:8080/"
        },
        "id": "qm0R1OMT5Kkz",
        "outputId": "d511f77d-cc4e-4f24-b213-cf4ec719b8cc"
      },
      "execution_count": null,
      "outputs": [
        {
          "output_type": "stream",
          "name": "stdout",
          "text": [
            "Earliest World Cup Year: 1930\n"
          ]
        }
      ]
    },
    {
      "cell_type": "code",
      "source": [
        "print(\"Latest World Cup Year:\", df['Year'].max())"
      ],
      "metadata": {
        "colab": {
          "base_uri": "https://localhost:8080/"
        },
        "id": "0RqRXsQy5P2B",
        "outputId": "c3e49178-57bc-4878-8b05-1434a01fb8eb"
      },
      "execution_count": null,
      "outputs": [
        {
          "output_type": "stream",
          "name": "stdout",
          "text": [
            "Latest World Cup Year: 2018\n"
          ]
        }
      ]
    },
    {
      "cell_type": "markdown",
      "source": [
        "# 6.Host Countries:\n",
        "\n",
        "Which countries have hosted the most World Cups?\n",
        "How many times has a country hosted the World Cup more than once?"
      ],
      "metadata": {
        "id": "vT0ggtx4w7Vw"
      }
    },
    {
      "cell_type": "code",
      "source": [
        "host_counts = df['HostCountry'].value_counts()\n",
        "print(\"Countries that hosted the most World Cups:\")\n",
        "print(host_counts.head(1))"
      ],
      "metadata": {
        "colab": {
          "base_uri": "https://localhost:8080/"
        },
        "id": "41nouqCLvUoq",
        "outputId": "f235245c-7bb8-43a6-bdd8-a707be126be0"
      },
      "execution_count": null,
      "outputs": [
        {
          "output_type": "stream",
          "name": "stdout",
          "text": [
            "Countries that hosted the most World Cups:\n",
            "Italy    2\n",
            "Name: HostCountry, dtype: int64\n"
          ]
        }
      ]
    },
    {
      "cell_type": "markdown",
      "source": [
        "# 7.Attendance Analysis:\n",
        "\n",
        "What is the average attendance for all World Cups?\n",
        "Which World Cup had the highest and lowest attendance?"
      ],
      "metadata": {
        "id": "tSwchu9FxokI"
      }
    },
    {
      "cell_type": "code",
      "source": [
        "print(\" Attendance Analysis:\")\n",
        "print(\"Average Attendance for all World Cups:\", df['Attendance'].mean())"
      ],
      "metadata": {
        "colab": {
          "base_uri": "https://localhost:8080/"
        },
        "id": "9B-hiLL3xOR1",
        "outputId": "35e025a9-3ba5-4a92-949e-c1459f3ab166"
      },
      "execution_count": null,
      "outputs": [
        {
          "output_type": "stream",
          "name": "stdout",
          "text": [
            " Attendance Analysis:\n",
            "Average Attendance for all World Cups: 1928067.380952381\n"
          ]
        }
      ]
    },
    {
      "cell_type": "code",
      "source": [
        "print(\"World Cup with the Highest Attendance:\")\n",
        "print(df[df['Attendance'] == df['Attendance'].max()][['Year', 'HostCountry', 'Attendance']])"
      ],
      "metadata": {
        "colab": {
          "base_uri": "https://localhost:8080/"
        },
        "id": "71AxIhZKx8jz",
        "outputId": "81c922f3-7a21-4eda-e981-1a92925a8ed6"
      },
      "execution_count": null,
      "outputs": [
        {
          "output_type": "stream",
          "name": "stdout",
          "text": [
            "World Cup with the Highest Attendance:\n",
            "    Year HostCountry  Attendance\n",
            "14  1994         USA     3587538\n"
          ]
        }
      ]
    },
    {
      "cell_type": "code",
      "source": [
        "print(\"World Cup with the Lowest Attendance:\")\n",
        "print(df[df['Attendance'] == df['Attendance'].min()][['Year', 'HostCountry', 'Attendance']])"
      ],
      "metadata": {
        "colab": {
          "base_uri": "https://localhost:8080/"
        },
        "id": "R5RA8T0LyhHR",
        "outputId": "b42329fc-dd89-4330-cb58-a8f57c9d7ba5"
      },
      "execution_count": null,
      "outputs": [
        {
          "output_type": "stream",
          "name": "stdout",
          "text": [
            "World Cup with the Lowest Attendance:\n",
            "   Year HostCountry  Attendance\n",
            "1  1934       Italy      363000\n"
          ]
        }
      ]
    },
    {
      "cell_type": "markdown",
      "source": [
        "# 8.Goal Statistics:\n",
        "\n",
        "What is the average number of goals scored per match in each World Cup?\n",
        "\n",
        "Which World Cup had the highest and lowest goal-scoring average?"
      ],
      "metadata": {
        "id": "Fd1ruZwpyvJ1"
      }
    },
    {
      "cell_type": "code",
      "source": [
        "print(\"Goal Statistics:\")\n",
        "print(\"Average Goals Scored per Match in Each World Cup:\")\n",
        "df['Goals_Per_Match'] = df['GoalsScored'] / df['MatchesPlayed']\n",
        "print(df.groupby('Year')['Goals_Per_Match'].mean())"
      ],
      "metadata": {
        "colab": {
          "base_uri": "https://localhost:8080/"
        },
        "id": "u1oJTnZ6yj5j",
        "outputId": "0292f1f1-9ac8-47a8-e7d8-1977b43bab51"
      },
      "execution_count": null,
      "outputs": [
        {
          "output_type": "stream",
          "name": "stdout",
          "text": [
            "Goal Statistics:\n",
            "Average Goals Scored per Match in Each World Cup:\n",
            "Year\n",
            "1930    3.888889\n",
            "1934    4.117647\n",
            "1938    4.666667\n",
            "1950    4.000000\n",
            "1954    5.384615\n",
            "1958    3.600000\n",
            "1962    2.781250\n",
            "1966    2.781250\n",
            "1970    2.968750\n",
            "1974    2.552632\n",
            "1978    2.684211\n",
            "1982    2.807692\n",
            "1986    2.538462\n",
            "1990    2.211538\n",
            "1994    2.711538\n",
            "1998    2.671875\n",
            "2002    2.515625\n",
            "2006    2.296875\n",
            "2010    2.265625\n",
            "2014    2.671875\n",
            "2018    2.640625\n",
            "Name: Goals_Per_Match, dtype: float64\n"
          ]
        }
      ]
    },
    {
      "cell_type": "code",
      "source": [
        "print(\"World Cup with the Highest Goal-Scoring Average:\")\n",
        "print(df[df['Goals_Per_Match'] == df['Goals_Per_Match'].max()][['Year', 'HostCountry', 'Goals_Per_Match']])"
      ],
      "metadata": {
        "colab": {
          "base_uri": "https://localhost:8080/"
        },
        "id": "1PG5Y8PkzPRj",
        "outputId": "4f4bd232-490b-4ce7-df8f-db2d11ddc4c9"
      },
      "execution_count": null,
      "outputs": [
        {
          "output_type": "stream",
          "name": "stdout",
          "text": [
            "World Cup with the Highest Goal-Scoring Average:\n",
            "   Year  HostCountry  Goals_Per_Match\n",
            "4  1954  Switzerland         5.384615\n"
          ]
        }
      ]
    },
    {
      "cell_type": "code",
      "source": [
        "print(\"World Cup with the Lowest Goal-Scoring Average:\")\n",
        "print(df[df['Goals_Per_Match'] == df['Goals_Per_Match'].min()][['Year', 'HostCountry', 'Goals_Per_Match']])"
      ],
      "metadata": {
        "colab": {
          "base_uri": "https://localhost:8080/"
        },
        "id": "01vXHC-3zbkL",
        "outputId": "931a6686-96f1-415b-ee2c-e44fdec444ac"
      },
      "execution_count": null,
      "outputs": [
        {
          "output_type": "stream",
          "name": "stdout",
          "text": [
            "World Cup with the Lowest Goal-Scoring Average:\n",
            "    Year HostCountry  Goals_Per_Match\n",
            "13  1990       Italy         2.211538\n"
          ]
        }
      ]
    },
    {
      "cell_type": "markdown",
      "source": [
        "# 9.Matches and Teams:\n",
        "\n",
        "How many matches were played in each World Cup?\n",
        "\n",
        "What is the average number of teams participating in a World Cup?"
      ],
      "metadata": {
        "id": "-tuhs80Z1gSa"
      }
    },
    {
      "cell_type": "code",
      "source": [
        "print(\"Average Number of Matches Played in Each World Cup:\", df['MatchesPlayed'].mean())"
      ],
      "metadata": {
        "colab": {
          "base_uri": "https://localhost:8080/"
        },
        "id": "RFUT80xSzh0Z",
        "outputId": "193ce82d-2155-4986-e17c-a34a9875552c"
      },
      "execution_count": null,
      "outputs": [
        {
          "output_type": "stream",
          "name": "stdout",
          "text": [
            "Average Number of Matches Played in Each World Cup: 42.857142857142854\n"
          ]
        }
      ]
    },
    {
      "cell_type": "code",
      "source": [
        "print(\"Average Number of Teams Participating in a World Cup:\", df['QualifiedTeams'].mean())"
      ],
      "metadata": {
        "colab": {
          "base_uri": "https://localhost:8080/"
        },
        "id": "RVU_6squ1nx7",
        "outputId": "d433db7e-2c6b-4456-8819-ceafe9b535a0"
      },
      "execution_count": null,
      "outputs": [
        {
          "output_type": "stream",
          "name": "stdout",
          "text": [
            "Average Number of Teams Participating in a World Cup: 21.761904761904763\n"
          ]
        }
      ]
    },
    {
      "cell_type": "markdown",
      "source": [
        "# 10.Correlation Analysis:\n",
        "\n",
        "Are there any significant correlations between variables, such as attendance and goals scored?"
      ],
      "metadata": {
        "id": "mHMWd4Yq28Y8"
      }
    },
    {
      "cell_type": "code",
      "source": [
        "print(\"Correlation Analysis:\")\n",
        "correlation_matrix = df.corr(numeric_only=True)\n",
        "sns.heatmap(correlation_matrix, annot=True, cmap='coolwarm', linewidths=0.5)\n",
        "plt.title('Correlation Matrix')\n",
        "plt.show()"
      ],
      "metadata": {
        "colab": {
          "base_uri": "https://localhost:8080/",
          "height": 573
        },
        "id": "8NUC9NEi2qeh",
        "outputId": "3cba8f2d-9326-4526-db3c-b6b1ae41b689"
      },
      "execution_count": 79,
      "outputs": [
        {
          "output_type": "stream",
          "name": "stdout",
          "text": [
            "Correlation Analysis:\n"
          ]
        },
        {
          "output_type": "display_data",
          "data": {
            "text/plain": [
              "<Figure size 640x480 with 2 Axes>"
            ],
            "image/png": "[encoded data removed]"
          },
          "metadata": {}
        }
      ]
    },
    {
      "cell_type": "markdown",
      "source": [
        "# **Summary**\n",
        "\n",
        "This Summary is based on the WorldCupData(1930-2018).\n",
        "*   **Brazil** Is the Country with the Most World Cup Wins** 5** Times.\n",
        "*   Total Number of Goals in World Cup Matches: **2548** Goals Scored.\n",
        "*   In **1998** and **2014** Most Number of Golas Have Been Scored,**171 **Goals.\n",
        "*  ** 21 **Total Number of World Cups in WorldCupData(1930-2018) dataset.\n",
        "*   Earliest World Cup Year is **1930** and Latest World Cup Year is **2018.**\n",
        "*   Country that Hosted the Most World Cup is **Italy** Hosted **2** Times.\n",
        "\n",
        "*   Average Attendance for all World Cups: 1928067.380952381\n",
        "*  World Cup with the Highest Attendance: In 1994,USA =3587538\n",
        "\n",
        "*   World Cup with the Lowest Attendance: In 1934,Italy =363000\n",
        "*   World Cup with the Highest Goal-Scoring Average:In 1954, Switzerland =5.384615\n",
        "\n",
        "*   World Cup with the Lowest Goal-Scoring Average: In 1990,Italy =2.211538\n",
        "*   Average Number of Matches Played in Each World Cup: 42.857142857142854\n",
        "\n",
        "*   Average Number of Teams Participating in a World Cup: 21.761904761904763\n",
        "* There is STRONG POSITIVE significant correlations between the Same Variables.\n",
        "*There is NEFGATIVE significant correlations between Year with Goals_per_Matche.\n",
        "\n",
        "\n",
        "\n",
        "\n",
        "\n",
        "\n",
        "\n",
        "\n",
        "\n",
        "\n",
        "\n",
        "\n",
        "\n",
        "\n",
        "\n",
        "\n",
        "\n"
      ],
      "metadata": {
        "id": "5oU1OwWq_64p"
      }
    }
  ]
}